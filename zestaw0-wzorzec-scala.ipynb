{
 "cells": [
  {
   "cell_type": "markdown",
   "id": "861b6d4a-0de6-42ba-97a5-beef1f82f292",
   "metadata": {},
   "source": [
    "# Projekt Apache Spark"
   ]
  },
  {
   "cell_type": "markdown",
   "id": "99138f73-24da-4042-ad5a-857521975cec",
   "metadata": {},
   "source": [
    "# Wprowadzenie\n",
    "\n",
    "## Dodatkowe biblioteki wymagane przez szablon\n",
    "\n",
    "Zanim uruchomisz ten notatnik jako pierwszy w środowisku *Dataproc* lub *Docker* <br>\n",
    "(jeśli już to zrobiłeś w obecnym środowisku, nie wykonuj tego ponownie)\n",
    "\n",
    "1. Otwórz terminal (możesz do tego celu wykorzystać interfejs JupyterLab), a następnie wykonaj poniższe instrukcje,\n",
    "   które pobiorą wymagane dodatkowe biblioteki i umieszczą je w katalogu SPARK_HOME/jars\n",
    "\n",
    "   ```\n",
    "   wget https://jankiewicz.pl/bigdata/metricfunctions.jar\n",
    "   wget https://jankiewicz.pl/bigdata/toolsfunctions.jar\n",
    "   sudo cp *.jar $SPARK_HOME/jars\n",
    "   ```"
   ]
  },
  {
   "cell_type": "markdown",
   "id": "9ea793a1-9798-482a-9dab-7739cbcd6ac1",
   "metadata": {},
   "source": [
    "## Dodatkowe biblioteki i parametry konfiguracyjne \n",
    "\n",
    "2. Jeśli Twój projekt wymaga dodatkowych bibliotek lub parametrów konfiguracyjnych, uzupełnij instrukcję w poniższym paragrafie "
   ]
  },
  {
   "cell_type": "markdown",
   "id": "f086e63d-9a39-4c65-8342-5d94434ad5d8",
   "metadata": {},
   "source": [
    "(do ewentualnego uzupełnienia)\n",
    "a) Sprawdź wersję Apache Spark\n",
    "    \n",
    "```\n",
    "spark-submit --version\n",
    "```\n",
    "    \n",
    "b) Odczytaj ze strony `https://docs.delta.io/latest/releases.html` która wersja biblioteki Delta Lake odpowiada Twojej wersji Sparka. \n",
    "    \n",
    "c) Sprawdź w którym katalogu znajdują się pliki konfiguracyjne naszych kerneli \n",
    "    \n",
    "```\n",
    "jupyter kernelspec list\n",
    "```\n",
    "    \n",
    "d) Wprowadź zmiany do pliku konfiguracyjnego kernela\n",
    "    \n",
    "```\n",
    "cd /opt/conda/miniconda3/share/jupyter/kernels/apache_toree_scala\n",
    "    \n",
    "sudo cp kernel.json kernel.json.tmp\n",
    "    \n",
    "jq '.env.SPARK_OPTS = \"--packages io.delta:delta-spark_2.12:3.2.1 --conf spark.sql.extensions=io.delta.sql.DeltaSparkSessionExtension --conf spark.sql.catalog.spark_catalog=org.apache.spark.sql.delta.catalog.DeltaCatalog\"' kernel.json.tmp | sudo tee kernel.json > /dev/null\n",
    "```\n",
    "    \n",
    "    \n",
    "Kilka słów komentarza.\n",
    "\n",
    "W założeniu biblioteka `io.delta:delta-spark_2.12:3.2.1` to najnowsza z wersji utworzonych dla wersji Sparka 3.5.X (patrz: `https://github.com/delta-io/delta/releases`)\n",
    "\n",
    "Parametry konfiguracyjne:\n",
    "\n",
    "- `spark.sql.extensions` = `io.delta.sql.DeltaSparkSessionExtension`\n",
    "- `spark.sql.catalog.spark_catalog` = `org.apache.spark.sql.delta.catalog.DeltaCatalog`\n",
    "\n",
    "pozwolą nam odpowiednio używać rozszerzeń w poleceniach SQL dostępnych dla Delta Lake oraz pozwolą obsługiwać tabele Delta Lake w repozytorium metadanych. \n",
    " repozytorium metadanych."
   ]
  },
  {
   "cell_type": "markdown",
   "id": "0b41cc79-e29f-466e-8213-1543c32d3d8c",
   "metadata": {},
   "source": [
    "2. Zrestartuj wszystkie kernele"
   ]
  },
  {
   "cell_type": "markdown",
   "id": "4cde9819-c938-4c60-bce7-b82c47100532",
   "metadata": {},
   "source": [
    "# Dalsze instrukcje \n",
    "\n",
    "Wykorzystując ten notatnik jako szablon, zrealizuj projekt Apache Spark zgodnie z przydzielonym zestawem. \n",
    "\n",
    "Kilka uwag:\n",
    "\n",
    "* Nie modyfikuj ani nie usuwaj paragrafów *markdown* w tym notatniku, chyba że wynika to jednoznacznie z instrukcji. \n",
    "* Istniejące paragrafy zawierające *kod* uzupełnij w razie potrzeby zgodnie z instrukcjami\n",
    "    - nie usuwaj ich\n",
    "    - nie usuwaj zawartych w nich instrukcji oraz kodu\n",
    "    - nie modyfikuj ich, jeśli instrukcje jawnie tego nie nakazują\n",
    "* Możesz dodawać nowe paragrafy zarówno zawierające kod jak i komentarze dotyczące tego kodu (markdown)"
   ]
  },
  {
   "cell_type": "markdown",
   "id": "e69d12f1-1013-4c74-b6aa-686ccfcbdd5c",
   "metadata": {},
   "source": [
    "# Treść projektu\n",
    "\n",
    "Poniżej w paragrafie *markdown* wstaw tytuł przydzielonego zestawu"
   ]
  },
  {
   "cell_type": "markdown",
   "id": "adfc4ff6-4d43-49ed-a0d1-8b6988eaec16",
   "metadata": {},
   "source": [
    "# Zestaw 0 – wzorzec\n",
    "\n",
    "**Uwaga**\n",
    "\n",
    "- W ramach wzorca nie są spełnione żadne reguły projektu. \n",
    "- Brak konsekwencji w wykorzystaniu właściwego API w ramach poszczególnych części\n",
    "- Zadanie *misji głównej* polega na zliczeniu słówek.  "
   ]
  },
  {
   "cell_type": "markdown",
   "id": "726c8441-e681-4f41-ae2a-a0227b38ab3f",
   "metadata": {},
   "source": [
    "# Działania wstępne "
   ]
  },
  {
   "cell_type": "markdown",
   "id": "74d78810-a6a0-4552-8be9-aedc2f4ec8b5",
   "metadata": {},
   "source": [
    "W poniższym paragrafie uzupełnij polecenia definiujące poszczególne zmienne. \n",
    "\n",
    "Pamiętaj abyś:\n",
    "\n",
    "* w późniejszym kodzie, dla wszystkich cześci projektu, korzystał z tych zdefiniowanych zmiennych. Wykorzystuj je analogicznie jak parametry\n",
    "* przed ostateczną rejestracją projektu usunął ich wartości, tak aby nie pozostawiać w notatniku niczego co mogłoby identyfikować Ciebie jako jego autora"
   ]
  },
  {
   "cell_type": "code",
   "execution_count": 2,
   "id": "001ce088-d39f-4a1b-9318-5574056da002",
   "metadata": {},
   "outputs": [
    {
     "data": {
      "text/plain": [
       "inputDir = /home/jovyan/data/zestaw10\n"
      ]
     },
     "metadata": {},
     "output_type": "display_data"
    },
    {
     "data": {
      "text/plain": [
       "/home/jovyan/data/zestaw10"
      ]
     },
     "execution_count": 2,
     "metadata": {},
     "output_type": "execute_result"
    }
   ],
   "source": [
    "// pełna ścieżka do katalogu w zasobniku zawierającego podkatalogi datasource1 i datasource4 z danymi źródłowymi\n",
    "val inputDir = \"/home/jovyan/data/zestaw10\""
   ]
  },
  {
   "cell_type": "markdown",
   "id": "19100889-f91d-452b-94e9-41c9f6ee9cf9",
   "metadata": {},
   "source": [
    "Nie modyfikuj poniższych paragrafów. Wykonaj je i używaj zdefiniowanych poniżej zmiennych jak parametrów Twojego programu."
   ]
  },
  {
   "cell_type": "code",
   "execution_count": 3,
   "id": "0318e606-6627-4e60-aea4-d2c37b6ed7cf",
   "metadata": {},
   "outputs": [
    {
     "data": {
      "text/plain": [
       "datasource1Dir = /home/jovyan/data/zestaw10/datasource1\n",
       "datasource4Dir = /home/jovyan/data/zestaw10/datasource4\n",
       "rddResultDir = /tmp/output1\n",
       "dfResultTable = output2\n",
       "dsResultFile = /tmp/output3.json\n"
      ]
     },
     "metadata": {},
     "output_type": "display_data"
    },
    {
     "data": {
      "text/plain": [
       "/tmp/output3.json"
      ]
     },
     "execution_count": 3,
     "metadata": {},
     "output_type": "execute_result"
    }
   ],
   "source": [
    "// NIE ZMIENIAĆ\n",
    "// ścieżki dla danych źródłowych \n",
    "val datasource1Dir = inputDir + \"/datasource1\"\n",
    "val datasource4Dir = inputDir + \"/datasource4\"\n",
    "\n",
    "// nazwy i ścieżki dla wyników \n",
    "// część 1 (Spark Core - RDD) \n",
    "val rddResultDir = \"/tmp/output1\"\n",
    "\n",
    "// część 2 (Spark SQL - DataFrame)\n",
    "val dfResultTable = \"output2\"\n",
    "\n",
    "// część 3 (Spark SQL - Dataset)\n",
    "val dsResultFile = \"/tmp/output3.json\""
   ]
  },
  {
   "cell_type": "code",
   "execution_count": 4,
   "id": "1c4ba9ce-aa92-436e-ae31-6bae182eafda",
   "metadata": {},
   "outputs": [],
   "source": [
    "// NIE ZMIENIAĆ\n",
    "import ToolsFunctions._\n",
    "import SparkMetrics._"
   ]
  },
  {
   "cell_type": "markdown",
   "id": "957d3005-0547-4c66-bf61-d4e7106088ce",
   "metadata": {},
   "source": [
    "Poniższe paragrafy mają na celu usunąć ewentualne pozostałości poprzednich uruchomień tego lub innych notatników"
   ]
  },
  {
   "cell_type": "code",
   "execution_count": 5,
   "id": "90fe3b27-f626-4047-bf46-31235293db90",
   "metadata": {},
   "outputs": [
    {
     "name": "stdout",
     "output_type": "stream",
     "text": [
      "Successfully deleted directory: /tmp/output1\n"
     ]
    }
   ],
   "source": [
    "// NIE ZMIENIAĆ\n",
    "// usunięcie miejsca docelowego dla część 1 (Spark Core - RDD) \n",
    "deleteDir(spark, rddResultDir)"
   ]
  },
  {
   "cell_type": "code",
   "execution_count": 6,
   "id": "496b69f0-6876-4fe3-9f97-4ec5d357c72e",
   "metadata": {},
   "outputs": [
    {
     "name": "stdout",
     "output_type": "stream",
     "text": [
      "The table output2 does not exist.\n",
      "Successfully deleted directory: file:/home/jovyan/work/project2/spark-warehouse/output2\n"
     ]
    }
   ],
   "source": [
    "// NIE ZMIENIAĆ\n",
    "// usunięcie miejsca docelowego dla część 2 (Spark SQL - DataFrame) \n",
    "dropTable(spark, dfResultTable)"
   ]
  },
  {
   "cell_type": "code",
   "execution_count": 7,
   "id": "ae44b23c-178b-4884-8f1e-f774d6ce7b80",
   "metadata": {},
   "outputs": [
    {
     "name": "stdout",
     "output_type": "stream",
     "text": [
      "Successfully deleted file: /tmp/output3.json\n"
     ]
    }
   ],
   "source": [
    "// NIE ZMIENIAĆ\n",
    "// usunięcie miejsca docelowego dla część 3 (Spark SQL - Dataset) \n",
    "deleteDir(path = dsResultFile)"
   ]
  },
  {
   "cell_type": "markdown",
   "id": "ba80a2cb-1ea2-4106-9dfe-6ab4a3d6eb1c",
   "metadata": {},
   "source": [
    "***Uwaga!***\n",
    "\n",
    "Uruchom poniższy paragraf i sprawdź czy adres, pod którym dostępny *Apache Spark Application UI* jest poprawny wywołując następny testowy paragraf. \n",
    "\n",
    "W razie potrzeby określ samodzielnie poprawny adres pod którym dostępny *Apache Spark Application UI*"
   ]
  },
  {
   "cell_type": "code",
   "execution_count": 8,
   "id": "9a2b941b-f521-4610-be41-e0356ac37e21",
   "metadata": {},
   "outputs": [
    {
     "data": {
      "text/plain": [
       "sparkUiAddress = http://localhost:4040\n"
      ]
     },
     "metadata": {},
     "output_type": "display_data"
    },
    {
     "data": {
      "text/plain": [
       "http://localhost:4040"
      ]
     },
     "execution_count": 8,
     "metadata": {},
     "output_type": "execute_result"
    }
   ],
   "source": [
    "// adres URL, pod którym dostępny Apache Spark Application UI (REST API) \n",
    "\n",
    "val sparkUiAddress = extractHostAndPort(spark, \"http://localhost:4040\")\n",
    "sparkUiAddress"
   ]
  },
  {
   "cell_type": "code",
   "execution_count": 9,
   "id": "c25a5417-4f26-4340-9e10-4ad7c1c4d5cc",
   "metadata": {},
   "outputs": [
    {
     "data": {
      "text/plain": [
       "testMetrics = Map(resultSerializationTime -> 232, shuffleWriteTime -> 3153692000, shuffleRemoteBytesReadToDisk -> 0, shuffleRemoteBytesRead -> 0, outputBytes -> 0, peakExecutionMemory -> 1059639120, outputRecords -> 0, diskBytesSpilled -> 138071669, shuffleLocalBlocksFetched -> 115, numCompleteTasks -> 82, shuffleWriteBytes -> 139704075, shuffleReadBytes -> 141148875, executorDeserializeTime -> 1233, executorDeserializeCpuTime -> 735307400, numCompletedIndices -> 82, numActiveTasks -> 0, numTasks -> 209, inputBytes -> 3785496010, memoryBytesSpilled -> 1142943488, inputRecords -> 127623804, jvmGcTime -> 9507, executorCpuTime -> 548303174000, numFailedTasks -> 0, shuffleFetchWaitTime -> 0, shuffleRemoteBlocksFetched -> 0, executorRunTime -> 665203, shuffleLocalBytesRead ...\n"
      ]
     },
     "metadata": {},
     "output_type": "display_data"
    },
    {
     "data": {
      "text/plain": [
       "Map(resultSerializationTime -> 232, shuffleWriteTime -> 3153692000, shuffleRemoteBytesReadToDisk -> 0, shuffleRemoteBytesRead -> 0, outputBytes -> 0, peakExecutionMemory -> 1059639120, outputRecords -> 0, diskBytesSpilled -> 138071669, shuffleLocalBlocksFetched -> 115, numCompleteTasks -> 82, shuffleWriteBytes -> 139704075, shuffleReadBytes -> 141148875, executorDeserializeTime -> 1233, executorDeserializeCpuTime -> 735307400, numCompletedIndices -> 82, numActiveTasks -> 0, numTasks -> 209, inputBytes -> 3785496010, memoryBytesSpilled -> 1142943488, inputRecords -> 127623804, jvmGcTime -> 9507, executorCpuTime -> 548303174000, numFailedTasks -> 0, shuffleFetchWaitTime -> 0, shuffleRemoteBlocksFetched -> 0, executorRunTime -> 665203, shuffleLocalBytesRead ..."
      ]
     },
     "execution_count": 9,
     "metadata": {},
     "output_type": "execute_result"
    }
   ],
   "source": [
    "// testowy paragraf\n",
    "val testMetrics = getCurrentMetrics(sparkUiAddress)"
   ]
  },
  {
   "cell_type": "markdown",
   "id": "b94ffcfb-fd09-4bbe-ad41-de27b862f46d",
   "metadata": {},
   "source": [
    "# Część 1 - Spark Core (RDD)\n",
    "\n",
    "## Misje poboczne\n",
    "\n",
    "W ponizszych paragrafach wprowadź swoje rozwiązania *misji pobocznych*, o ile **nie** chcesz, aby oceniana była *misja główna*. W przeciwnym przypadku **KONIECZNIE** pozostaw je **puste**.  "
   ]
  },
  {
   "cell_type": "code",
   "execution_count": null,
   "id": "10db4d94-34f1-4720-a993-67cfd0042d0b",
   "metadata": {},
   "outputs": [],
   "source": []
  },
  {
   "cell_type": "code",
   "execution_count": null,
   "id": "b01141bc-8b9d-46ae-bfed-c96f82a865f7",
   "metadata": {},
   "outputs": [],
   "source": []
  },
  {
   "cell_type": "markdown",
   "id": "6312c47d-f778-40bb-b38f-bd6846d34d05",
   "metadata": {},
   "source": [
    "## Misja główna \n",
    "\n",
    "Poniższy paragraf zapisuje metryki przed uruchomieniem Twojego rozwiązania *misji głównej*. \n",
    "\n",
    "Nie musisz go uruchamiać podczas implementacji rozwiązania."
   ]
  },
  {
   "cell_type": "code",
   "execution_count": 10,
   "id": "d7955a5f-386d-47a5-9f6a-3d93a906c526",
   "metadata": {},
   "outputs": [
    {
     "data": {
      "text/plain": [
       "beforeRddMetrics = Map(resultSerializationTime -> 232, shuffleWriteTime -> 3153692000, shuffleRemoteBytesReadToDisk -> 0, shuffleRemoteBytesRead -> 0, outputBytes -> 0, peakExecutionMemory -> 1059639120, outputRecords -> 0, diskBytesSpilled -> 138071669, shuffleLocalBlocksFetched -> 115, numCompleteTasks -> 82, shuffleWriteBytes -> 139704075, shuffleReadBytes -> 141148875, executorDeserializeTime -> 1233, executorDeserializeCpuTime -> 735307400, numCompletedIndices -> 82, numActiveTasks -> 0, numTasks -> 209, inputBytes -> 3785496010, memoryBytesSpilled -> 1142943488, inputRecords -> 127623804, jvmGcTime -> 9507, executorCpuTime -> 548303174000, numFailedTasks -> 0, shuffleFetchWaitTime -> 0, shuffleRemoteBlocksFetched -> 0, executorRunTime -> 665203, shuffleLocalBytes...\n"
      ]
     },
     "metadata": {},
     "output_type": "display_data"
    },
    {
     "data": {
      "text/plain": [
       "Map(resultSerializationTime -> 232, shuffleWriteTime -> 3153692000, shuffleRemoteBytesReadToDisk -> 0, shuffleRemoteBytesRead -> 0, outputBytes -> 0, peakExecutionMemory -> 1059639120, outputRecords -> 0, diskBytesSpilled -> 138071669, shuffleLocalBlocksFetched -> 115, numCompleteTasks -> 82, shuffleWriteBytes -> 139704075, shuffleReadBytes -> 141148875, executorDeserializeTime -> 1233, executorDeserializeCpuTime -> 735307400, numCompletedIndices -> 82, numActiveTasks -> 0, numTasks -> 209, inputBytes -> 3785496010, memoryBytesSpilled -> 1142943488, inputRecords -> 127623804, jvmGcTime -> 9507, executorCpuTime -> 548303174000, numFailedTasks -> 0, shuffleFetchWaitTime -> 0, shuffleRemoteBlocksFetched -> 0, executorRunTime -> 665203, shuffleLocalBytes..."
      ]
     },
     "execution_count": 10,
     "metadata": {},
     "output_type": "execute_result"
    }
   ],
   "source": [
    "//NIE ZMIENIAĆ\n",
    "val beforeRddMetrics = getCurrentMetrics(sparkUiAddress)"
   ]
  },
  {
   "cell_type": "markdown",
   "id": "188061c6-c63e-4be7-96e7-d15266666659",
   "metadata": {},
   "source": [
    "W poniższych paragrafach wprowadź **rozwiązanie** *misji głównej* oparte na *RDD API*. \n",
    "\n",
    "Pamiętaj o wydajności Twojego przetwarzania, *RDD API* tego wymaga. \n",
    "\n",
    "Nie wprowadzaj w poniższych paragrafach żadnego kodu, w przypadku wykorzystania *misji pobocznych*."
   ]
  },
  {
   "cell_type": "code",
   "execution_count": 11,
   "id": "6455d5e3-6980-497d-82f7-bde886a16932",
   "metadata": {},
   "outputs": [
    {
     "data": {
      "text/plain": [
       "textFiles = /home/jovyan/data/zestaw10/datasource4 MapPartitionsRDD[1] at textFile at <console>:32\n"
      ]
     },
     "metadata": {},
     "output_type": "display_data"
    },
    {
     "data": {
      "text/plain": [
       "/home/jovyan/data/zestaw10/datasource4 MapPartitionsRDD[1] at textFile at <console>:32"
      ]
     },
     "execution_count": 11,
     "metadata": {},
     "output_type": "execute_result"
    }
   ],
   "source": [
    "// Wczytanie plików tekstowych\n",
    "val textFiles = sc.textFile(datasource4Dir)"
   ]
  },
  {
   "cell_type": "code",
   "execution_count": 12,
   "id": "d9cb0efb-d700-4db3-a3ad-c71978e351f1",
   "metadata": {},
   "outputs": [
    {
     "data": {
      "text/plain": [
       "wordCounts = ShuffledRDD[4] at reduceByKey at <console>:34\n"
      ]
     },
     "metadata": {},
     "output_type": "display_data"
    },
    {
     "data": {
      "text/plain": [
       "ShuffledRDD[4] at reduceByKey at <console>:34"
      ]
     },
     "execution_count": 12,
     "metadata": {},
     "output_type": "execute_result"
    }
   ],
   "source": [
    "// Podział linii na słowa i zliczanie ilości wystąpień każdego słowa\n",
    "val wordCounts = textFiles\n",
    "  .flatMap(line => line.split(\" \"))\n",
    "  .map(word => (word, 1))\n",
    "  .reduceByKey((x, y) => x + y)"
   ]
  },
  {
   "cell_type": "code",
   "execution_count": 13,
   "id": "b9b9c465-8e97-4a0a-9df9-152d6b866eba",
   "metadata": {},
   "outputs": [],
   "source": [
    "// Zapis wyniku jako ObjectFile\n",
    "wordCounts.saveAsObjectFile(rddResultDir)"
   ]
  },
  {
   "cell_type": "markdown",
   "id": "ba6b1011-68a0-4f9d-8450-1c39ae23fc6b",
   "metadata": {},
   "source": [
    "Poniższy paragraf zapisuje metryki po uruchomieniu Twojego rozwiązania *misji głównej*. \n",
    "\n",
    "Nie musisz go uruchamiać podczas implementacji rozwiązania."
   ]
  },
  {
   "cell_type": "code",
   "execution_count": 14,
   "id": "1748a797-9bef-464d-8013-83ca9b7431b4",
   "metadata": {},
   "outputs": [
    {
     "data": {
      "text/plain": [
       "afterRddMetrics = Map(resultSerializationTime -> 232, shuffleWriteTime -> 3153692000, shuffleRemoteBytesReadToDisk -> 0, shuffleRemoteBytesRead -> 0, outputBytes -> 0, peakExecutionMemory -> 1059639120, outputRecords -> 0, diskBytesSpilled -> 138071669, shuffleLocalBlocksFetched -> 115, numCompleteTasks -> 82, shuffleWriteBytes -> 139704075, shuffleReadBytes -> 141148875, executorDeserializeTime -> 1233, executorDeserializeCpuTime -> 735307400, numCompletedIndices -> 82, numActiveTasks -> 0, numTasks -> 209, inputBytes -> 3785496010, memoryBytesSpilled -> 1142943488, inputRecords -> 127623804, jvmGcTime -> 9507, executorCpuTime -> 548303174000, numFailedTasks -> 0, shuffleFetchWaitTime -> 0, shuffleRemoteBlocksFetched -> 0, executorRunTime -> 665203, shuffleLocalBytesR...\n"
      ]
     },
     "metadata": {},
     "output_type": "display_data"
    },
    {
     "data": {
      "text/plain": [
       "Map(resultSerializationTime -> 232, shuffleWriteTime -> 3153692000, shuffleRemoteBytesReadToDisk -> 0, shuffleRemoteBytesRead -> 0, outputBytes -> 0, peakExecutionMemory -> 1059639120, outputRecords -> 0, diskBytesSpilled -> 138071669, shuffleLocalBlocksFetched -> 115, numCompleteTasks -> 82, shuffleWriteBytes -> 139704075, shuffleReadBytes -> 141148875, executorDeserializeTime -> 1233, executorDeserializeCpuTime -> 735307400, numCompletedIndices -> 82, numActiveTasks -> 0, numTasks -> 209, inputBytes -> 3785496010, memoryBytesSpilled -> 1142943488, inputRecords -> 127623804, jvmGcTime -> 9507, executorCpuTime -> 548303174000, numFailedTasks -> 0, shuffleFetchWaitTime -> 0, shuffleRemoteBlocksFetched -> 0, executorRunTime -> 665203, shuffleLocalBytesR..."
      ]
     },
     "execution_count": 14,
     "metadata": {},
     "output_type": "execute_result"
    }
   ],
   "source": [
    "// NIE ZMIENIAĆ\n",
    "val afterRddMetrics = getCurrentMetrics(sparkUiAddress)"
   ]
  },
  {
   "cell_type": "markdown",
   "id": "11fa58fe-cea7-4e62-940d-1169b2e1cad5",
   "metadata": {},
   "source": [
    "# Część 2 - Spark SQL (DataFrame)\n",
    "\n",
    "## Misje poboczne\n",
    "\n",
    "W ponizszych paragrafach wprowadź swoje rozwiązania *misji pobocznych*, o ile **nie** chcesz, aby oceniana była *misja główna*. W przeciwnym przypadku **KONIECZNIE** pozostaw je **puste**.  "
   ]
  },
  {
   "cell_type": "code",
   "execution_count": null,
   "id": "eca6e627-0ce5-4c48-b441-3bcc14e32f36",
   "metadata": {},
   "outputs": [],
   "source": []
  },
  {
   "cell_type": "code",
   "execution_count": null,
   "id": "bcc4aaa9-8dc2-4726-871e-5e2450ba3fa8",
   "metadata": {},
   "outputs": [],
   "source": []
  },
  {
   "cell_type": "markdown",
   "id": "94146471-351b-4682-87e3-1c0b3b2eeeec",
   "metadata": {},
   "source": [
    "## Misja główna \n",
    "\n",
    "Poniższy paragraf zapisuje metryki przed uruchomieniem Twojego rozwiązania *misji głównej*. \n",
    "\n",
    "Nie musisz go uruchamiać podczas implementacji rozwiązania."
   ]
  },
  {
   "cell_type": "code",
   "execution_count": 15,
   "id": "ea4de165-ca73-4864-b260-1d81f8c702a6",
   "metadata": {},
   "outputs": [
    {
     "data": {
      "text/plain": [
       "beforeDfMetrics = Map(resultSerializationTime -> 232, shuffleWriteTime -> 3153692000, shuffleRemoteBytesReadToDisk -> 0, shuffleRemoteBytesRead -> 0, outputBytes -> 0, peakExecutionMemory -> 1059639120, outputRecords -> 0, diskBytesSpilled -> 138071669, shuffleLocalBlocksFetched -> 115, numCompleteTasks -> 82, shuffleWriteBytes -> 139704075, shuffleReadBytes -> 141148875, executorDeserializeTime -> 1233, executorDeserializeCpuTime -> 735307400, numCompletedIndices -> 82, numActiveTasks -> 0, numTasks -> 209, inputBytes -> 3785496010, memoryBytesSpilled -> 1142943488, inputRecords -> 127623804, jvmGcTime -> 9507, executorCpuTime -> 548303174000, numFailedTasks -> 0, shuffleFetchWaitTime -> 0, shuffleRemoteBlocksFetched -> 0, executorRunTime -> 665203, shuffleLocalBytesR...\n"
      ]
     },
     "metadata": {},
     "output_type": "display_data"
    },
    {
     "data": {
      "text/plain": [
       "Map(resultSerializationTime -> 232, shuffleWriteTime -> 3153692000, shuffleRemoteBytesReadToDisk -> 0, shuffleRemoteBytesRead -> 0, outputBytes -> 0, peakExecutionMemory -> 1059639120, outputRecords -> 0, diskBytesSpilled -> 138071669, shuffleLocalBlocksFetched -> 115, numCompleteTasks -> 82, shuffleWriteBytes -> 139704075, shuffleReadBytes -> 141148875, executorDeserializeTime -> 1233, executorDeserializeCpuTime -> 735307400, numCompletedIndices -> 82, numActiveTasks -> 0, numTasks -> 209, inputBytes -> 3785496010, memoryBytesSpilled -> 1142943488, inputRecords -> 127623804, jvmGcTime -> 9507, executorCpuTime -> 548303174000, numFailedTasks -> 0, shuffleFetchWaitTime -> 0, shuffleRemoteBlocksFetched -> 0, executorRunTime -> 665203, shuffleLocalBytesR..."
      ]
     },
     "execution_count": 15,
     "metadata": {},
     "output_type": "execute_result"
    }
   ],
   "source": [
    "//NIE ZMIENIAĆ\n",
    "val beforeDfMetrics = getCurrentMetrics(sparkUiAddress)"
   ]
  },
  {
   "cell_type": "markdown",
   "id": "c5a82bd8-3e4a-4503-b9c4-0fb2a503f663",
   "metadata": {},
   "source": [
    "W poniższych paragrafach wprowadź **rozwiązanie** misji głównej oparte na *DataFrame API*.\n",
    "\n",
    "Pamiętaj o wydajności Twojego przetwarzania, *DataFrame API* tego wymaga.\n",
    "\n",
    "Nie wprowadzaj w poniższych paragrafach żadnego kodu, w przypadku wykorzystania misji pobocznych."
   ]
  },
  {
   "cell_type": "code",
   "execution_count": 16,
   "id": "a35c70d3-a771-44b7-9059-db31e4adc371",
   "metadata": {},
   "outputs": [
    {
     "data": {
      "text/plain": [
       "data = [value: string]\n"
      ]
     },
     "metadata": {},
     "output_type": "display_data"
    },
    {
     "data": {
      "text/plain": [
       "[value: string]"
      ]
     },
     "execution_count": 16,
     "metadata": {},
     "output_type": "execute_result"
    }
   ],
   "source": [
    "import org.apache.spark.sql.functions.{split, explode, count}\n",
    "\n",
    "// Wczytanie danych\n",
    "val data = spark.read.text(datasource4Dir)"
   ]
  },
  {
   "cell_type": "code",
   "execution_count": 17,
   "id": "7ae5d39e-a3a1-44e0-9504-b08b675f5698",
   "metadata": {},
   "outputs": [
    {
     "data": {
      "text/plain": [
       "words = [word: string]\n",
       "wordCounts = [word: string, count: bigint]\n"
      ]
     },
     "metadata": {},
     "output_type": "display_data"
    },
    {
     "data": {
      "text/plain": [
       "[word: string, count: bigint]"
      ]
     },
     "execution_count": 17,
     "metadata": {},
     "output_type": "execute_result"
    }
   ],
   "source": [
    "// Dzielenie linii na słowa i eksplozja do osobnych wierszy\n",
    "val words = data.select(explode(split(data(\"value\"), \" \")).alias(\"word\"))\n",
    "\n",
    "// Zliczanie słów\n",
    "val wordCounts = words.groupBy(\"word\").agg(count(\"word\").alias(\"count\"))"
   ]
  },
  {
   "cell_type": "code",
   "execution_count": 18,
   "id": "9b04c85e-a320-47e1-a658-954d32514fb4",
   "metadata": {},
   "outputs": [],
   "source": [
    "// Zapis wyników do tabeli\n",
    "wordCounts.write.mode(\"overwrite\").saveAsTable(dfResultTable)"
   ]
  },
  {
   "cell_type": "markdown",
   "id": "82dea1f2-004f-4897-95e1-9bdb2ded0d88",
   "metadata": {},
   "source": [
    "Poniższy paragraf zapisuje metryki po uruchomieniu Twojego rozwiązania *misji głównej*. \n",
    "\n",
    "Nie musisz go uruchamiać podczas implementacji rozwiązania."
   ]
  },
  {
   "cell_type": "code",
   "execution_count": 19,
   "id": "a6480a0d-24f6-47f0-812b-7e1a046bd764",
   "metadata": {},
   "outputs": [
    {
     "data": {
      "text/plain": [
       "afterDfMetrics = Map(resultSerializationTime -> 232, shuffleWriteTime -> 3153692000, shuffleRemoteBytesReadToDisk -> 0, shuffleRemoteBytesRead -> 0, outputBytes -> 0, peakExecutionMemory -> 1059639120, outputRecords -> 0, diskBytesSpilled -> 138071669, shuffleLocalBlocksFetched -> 115, numCompleteTasks -> 82, shuffleWriteBytes -> 139704075, shuffleReadBytes -> 141148875, executorDeserializeTime -> 1233, executorDeserializeCpuTime -> 735307400, numCompletedIndices -> 82, numActiveTasks -> 0, numTasks -> 209, inputBytes -> 3785496010, memoryBytesSpilled -> 1142943488, inputRecords -> 127623804, jvmGcTime -> 9507, executorCpuTime -> 548303174000, numFailedTasks -> 0, shuffleFetchWaitTime -> 0, shuffleRemoteBlocksFetched -> 0, executorRunTime -> 665203, shuffleLocalBytesRe...\n"
      ]
     },
     "metadata": {},
     "output_type": "display_data"
    },
    {
     "data": {
      "text/plain": [
       "Map(resultSerializationTime -> 232, shuffleWriteTime -> 3153692000, shuffleRemoteBytesReadToDisk -> 0, shuffleRemoteBytesRead -> 0, outputBytes -> 0, peakExecutionMemory -> 1059639120, outputRecords -> 0, diskBytesSpilled -> 138071669, shuffleLocalBlocksFetched -> 115, numCompleteTasks -> 82, shuffleWriteBytes -> 139704075, shuffleReadBytes -> 141148875, executorDeserializeTime -> 1233, executorDeserializeCpuTime -> 735307400, numCompletedIndices -> 82, numActiveTasks -> 0, numTasks -> 209, inputBytes -> 3785496010, memoryBytesSpilled -> 1142943488, inputRecords -> 127623804, jvmGcTime -> 9507, executorCpuTime -> 548303174000, numFailedTasks -> 0, shuffleFetchWaitTime -> 0, shuffleRemoteBlocksFetched -> 0, executorRunTime -> 665203, shuffleLocalBytesRe..."
      ]
     },
     "execution_count": 19,
     "metadata": {},
     "output_type": "execute_result"
    }
   ],
   "source": [
    "//NIE ZMIENIAĆ\n",
    "val afterDfMetrics = getCurrentMetrics(sparkUiAddress)"
   ]
  },
  {
   "cell_type": "markdown",
   "id": "fba55bde-80b8-45d5-b6b1-f95b9de5948c",
   "metadata": {},
   "source": [
    "# Część 3 - Spark SQL (Dataset)\n",
    "\n",
    "Ta część to wyzwanie. Utrzymanie się na wąskiej grani *Dataset API* to duża umiejętność. Wystarczy jedna nierozważna transformacja *untyped* i spadamy w przepaść typu `DataFrame`. \n",
    "\n",
    "Powodzenia!\n",
    "\n",
    "## Misje poboczne\n",
    "\n",
    "W ponizszych paragrafach wprowadź swoje rozwiązania *misji pobocznych*, o ile **nie** chcesz, aby oceniana była *misja główna*. W przeciwnym przypadku **KONIECZNIE** pozostaw je **puste**.  "
   ]
  },
  {
   "cell_type": "code",
   "execution_count": null,
   "id": "04e2478e-29c4-4d7e-bfe3-fe373b8c5460",
   "metadata": {},
   "outputs": [],
   "source": []
  },
  {
   "cell_type": "code",
   "execution_count": null,
   "id": "e1cb10f0-1053-4827-bccf-408d20d16388",
   "metadata": {},
   "outputs": [],
   "source": []
  },
  {
   "cell_type": "markdown",
   "id": "1027e33b-4876-4941-94a4-fd244ffb6337",
   "metadata": {},
   "source": [
    "## Misja główna \n",
    "\n",
    "Poniższy paragraf zapisuje metryki przed uruchomieniem Twojego rozwiązania *misji głównej*. \n",
    "\n",
    "Nie musisz go uruchamiać podczas implementacji rozwiązania."
   ]
  },
  {
   "cell_type": "code",
   "execution_count": 20,
   "id": "bd61f277-eff3-4efe-9746-ec5ce303bf1b",
   "metadata": {},
   "outputs": [
    {
     "data": {
      "text/plain": [
       "beforeDsMetrics = Map(resultSerializationTime -> 232, shuffleWriteTime -> 3153692000, shuffleRemoteBytesReadToDisk -> 0, shuffleRemoteBytesRead -> 0, outputBytes -> 0, peakExecutionMemory -> 1059639120, outputRecords -> 0, diskBytesSpilled -> 138071669, shuffleLocalBlocksFetched -> 115, numCompleteTasks -> 82, shuffleWriteBytes -> 139704075, shuffleReadBytes -> 141148875, executorDeserializeTime -> 1233, executorDeserializeCpuTime -> 735307400, numCompletedIndices -> 82, numActiveTasks -> 0, numTasks -> 209, inputBytes -> 3785496010, memoryBytesSpilled -> 1142943488, inputRecords -> 127623804, jvmGcTime -> 9507, executorCpuTime -> 548303174000, numFailedTasks -> 0, shuffleFetchWaitTime -> 0, shuffleRemoteBlocksFetched -> 0, executorRunTime -> 665203, shuffleLocalBytesR...\n"
      ]
     },
     "metadata": {},
     "output_type": "display_data"
    },
    {
     "data": {
      "text/plain": [
       "Map(resultSerializationTime -> 232, shuffleWriteTime -> 3153692000, shuffleRemoteBytesReadToDisk -> 0, shuffleRemoteBytesRead -> 0, outputBytes -> 0, peakExecutionMemory -> 1059639120, outputRecords -> 0, diskBytesSpilled -> 138071669, shuffleLocalBlocksFetched -> 115, numCompleteTasks -> 82, shuffleWriteBytes -> 139704075, shuffleReadBytes -> 141148875, executorDeserializeTime -> 1233, executorDeserializeCpuTime -> 735307400, numCompletedIndices -> 82, numActiveTasks -> 0, numTasks -> 209, inputBytes -> 3785496010, memoryBytesSpilled -> 1142943488, inputRecords -> 127623804, jvmGcTime -> 9507, executorCpuTime -> 548303174000, numFailedTasks -> 0, shuffleFetchWaitTime -> 0, shuffleRemoteBlocksFetched -> 0, executorRunTime -> 665203, shuffleLocalBytesR..."
      ]
     },
     "execution_count": 20,
     "metadata": {},
     "output_type": "execute_result"
    }
   ],
   "source": [
    "//NIE ZMIENIAĆ\n",
    "val beforeDsMetrics = getCurrentMetrics(sparkUiAddress)"
   ]
  },
  {
   "cell_type": "markdown",
   "id": "91a21582-6d63-4297-b6f7-383da12be5d4",
   "metadata": {},
   "source": [
    "W poniższych paragrafach wprowadź **rozwiązanie** swojego projektu oparte o *Dataset API*. \n",
    "\n",
    "Pamiętaj o wydajności Twojego przetwarzania, *Dataset API* nie jest w stanie wszystkiego \"naprawić\". \n",
    "\n",
    "Nie wprowadzaj w poniższych paragrafach żadnego kodu, w przypadku wykorzystania *misji pobocznych*."
   ]
  },
  {
   "cell_type": "code",
   "execution_count": 21,
   "id": "c5443f2d-62bd-4e0d-a616-f407603461e9",
   "metadata": {},
   "outputs": [
    {
     "data": {
      "text/plain": [
       "data = [value: string]\n"
      ]
     },
     "metadata": {},
     "output_type": "display_data"
    },
    {
     "data": {
      "text/plain": [
       "[value: string]"
      ]
     },
     "execution_count": 21,
     "metadata": {},
     "output_type": "execute_result"
    }
   ],
   "source": [
    "import org.apache.spark.sql.functions.{split, explode, count}\n",
    "import org.apache.spark.sql.Dataset\n",
    "\n",
    "// Wczytanie danych\n",
    "val data: Dataset[String] = spark.read.text(datasource4Dir).as[String]"
   ]
  },
  {
   "cell_type": "code",
   "execution_count": 22,
   "id": "45e45888-775d-40a1-b615-20269a0feb6d",
   "metadata": {},
   "outputs": [
    {
     "data": {
      "text/plain": [
       "words = [value: string]\n",
       "wordCounts = [key: string, count: bigint]\n"
      ]
     },
     "metadata": {},
     "output_type": "display_data"
    },
    {
     "data": {
      "text/plain": [
       "[key: string, count: bigint]"
      ]
     },
     "execution_count": 22,
     "metadata": {},
     "output_type": "execute_result"
    }
   ],
   "source": [
    "// Dzielenie linii na słowa i eksplozja do osobnych wierszy\n",
    "val words: Dataset[String] = data.flatMap(line => line.split(\" \"))\n",
    "\n",
    "// Zliczanie słów\n",
    "val wordCounts: Dataset[(String, Long)] = words.groupByKey(identity).agg(count(\"value\").as(\"count\").as[Long])"
   ]
  },
  {
   "cell_type": "code",
   "execution_count": 23,
   "id": "96b89908-67c8-4ae1-8f50-f3aff5d08ec1",
   "metadata": {},
   "outputs": [
    {
     "data": {
      "text/plain": [
       "formats = org.json4s.DefaultFormats$@a7fbafd\n",
       "collectedData = Array((Worcester,9), (Decigu,3), (Expert,161), (Bangla,76), (Morel?http://Ivanmorel.barber.cutz.com?sr.morel@gmail.com?8589935456,1), (CV?~?mabecorpti@gmail.com?8589935486,1), (IT?https://sisrute.kemkes.go.id?poentoro@yahoo.com?8589935850,1), (Tutting,,1), (PT?~?developer.compro@gmail.com?8589935985,1), (Boba?~?abeeryas20@gmail.com?8589936140,1), (AKD,7), (GROUP?https://varniapp.com?varniitsolutions@gmail.com?8589936309,1), (Inc.?http://www.plateau.tv?support@plateautel.com?8589936421,1), (CYBntity,1), (CARS,13), (MM?~?android@aerospool.sk?8589936796,1), (ShirdiSaiChants,1), (online,317), (Tydecon,4), (Apps?~?banglaappreview2...\n"
      ]
     },
     "metadata": {},
     "output_type": "display_data"
    },
    {
     "data": {
      "text/plain": [
       "Array((Worcester,9), (Decigu,3), (Expert,161), (Bangla,76), (Morel?http://Ivanmorel.barber.cutz.com?sr.morel@gmail.com?8589935456,1), (CV?~?mabecorpti@gmail.com?8589935486,1), (IT?https://sisrute.kemkes.go.id?poentoro@yahoo.com?8589935850,1), (Tutting,,1), (PT?~?developer.compro@gmail.com?8589935985,1), (Boba?~?abeeryas20@gmail.com?8589936140,1), (AKD,7), (GROUP?https://varniapp.com?varniitsolutions@gmail.com?8589936309,1), (Inc.?http://www.plateau.tv?support@plateautel.com?8589936421,1), (CYBntity,1), (CARS,13), (MM?~?android@aerospool.sk?8589936796,1), (ShirdiSaiChants,1), (online,317), (Tydecon,4), (Apps?~?banglaappreview2..."
      ]
     },
     "execution_count": 23,
     "metadata": {},
     "output_type": "execute_result"
    }
   ],
   "source": [
    "import org.json4s._\n",
    "import org.json4s.jackson.JsonMethods._\n",
    "\n",
    "// Ustawienie domyślnego formatu\n",
    "implicit val formats: Formats = DefaultFormats\n",
    "\n",
    "// Zebranie danych do lokalnej kolekcji\n",
    "val collectedData: Array[(String, Long)] = wordCounts.take(100)\n",
    "\n",
    "// Konwersja Array[(String, Long)] na JArray\n",
    "val jsonArray: JArray = JArray(collectedData.map { case (key, value) =>\n",
    "  JObject(\"key\" -> JString(key), \"value\" -> JLong(value))\n",
    "}.toList)\n",
    "\n",
    "// Zapis danych do lokalnego pliku JSON\n",
    "val writer = new java.io.FileWriter(dsResultFile)\n",
    "try {\n",
    "  writer.write(compact(render(jsonArray)))\n",
    "} finally {\n",
    "  writer.close()\n",
    "}"
   ]
  },
  {
   "cell_type": "markdown",
   "id": "e58827ac-927a-4fa6-b00d-8de86e9a12a7",
   "metadata": {},
   "source": [
    "Poniższy paragraf zapisuje metryki po uruchomieniu Twojego rozwiązania *misji głównej*. \n",
    "\n",
    "Nie musisz go uruchamiać podczas implementacji rozwiązania."
   ]
  },
  {
   "cell_type": "code",
   "execution_count": 24,
   "id": "7abda5a1-fd0e-45d4-905c-782928b0a373",
   "metadata": {},
   "outputs": [
    {
     "data": {
      "text/plain": [
       "afterDsMetrics = Map(resultSerializationTime -> 232, shuffleWriteTime -> 3153692000, shuffleRemoteBytesReadToDisk -> 0, shuffleRemoteBytesRead -> 0, outputBytes -> 0, peakExecutionMemory -> 1059639120, outputRecords -> 0, diskBytesSpilled -> 138071669, shuffleLocalBlocksFetched -> 115, numCompleteTasks -> 82, shuffleWriteBytes -> 139704075, shuffleReadBytes -> 141148875, executorDeserializeTime -> 1233, executorDeserializeCpuTime -> 735307400, numCompletedIndices -> 82, numActiveTasks -> 0, numTasks -> 209, inputBytes -> 3785496010, memoryBytesSpilled -> 1142943488, inputRecords -> 127623804, jvmGcTime -> 9507, executorCpuTime -> 548303174000, numFailedTasks -> 0, shuffleFetchWaitTime -> 0, shuffleRemoteBlocksFetched -> 0, executorRunTime -> 665203, shuffleLocalBytesRe...\n"
      ]
     },
     "metadata": {},
     "output_type": "display_data"
    },
    {
     "data": {
      "text/plain": [
       "Map(resultSerializationTime -> 232, shuffleWriteTime -> 3153692000, shuffleRemoteBytesReadToDisk -> 0, shuffleRemoteBytesRead -> 0, outputBytes -> 0, peakExecutionMemory -> 1059639120, outputRecords -> 0, diskBytesSpilled -> 138071669, shuffleLocalBlocksFetched -> 115, numCompleteTasks -> 82, shuffleWriteBytes -> 139704075, shuffleReadBytes -> 141148875, executorDeserializeTime -> 1233, executorDeserializeCpuTime -> 735307400, numCompletedIndices -> 82, numActiveTasks -> 0, numTasks -> 209, inputBytes -> 3785496010, memoryBytesSpilled -> 1142943488, inputRecords -> 127623804, jvmGcTime -> 9507, executorCpuTime -> 548303174000, numFailedTasks -> 0, shuffleFetchWaitTime -> 0, shuffleRemoteBlocksFetched -> 0, executorRunTime -> 665203, shuffleLocalBytesRe..."
      ]
     },
     "execution_count": 24,
     "metadata": {},
     "output_type": "execute_result"
    }
   ],
   "source": [
    "//NIE ZMIENIAĆ\n",
    "val afterDsMetrics = getCurrentMetrics(sparkUiAddress)"
   ]
  },
  {
   "cell_type": "markdown",
   "id": "e8f1cdce-fbf0-4b96-bc6d-471c5b2baa42",
   "metadata": {},
   "source": [
    "# Analiza wyników i wydajności *misji głównych*"
   ]
  },
  {
   "cell_type": "markdown",
   "id": "c4e2e990-5973-4c2e-b821-c70854c299b9",
   "metadata": {},
   "source": [
    "## Część 1 - Spark Core (RDD)"
   ]
  },
  {
   "cell_type": "code",
   "execution_count": 25,
   "id": "be8a4db9-1f65-40cc-a753-d6a0b3aa5f68",
   "metadata": {},
   "outputs": [
    {
     "name": "stdout",
     "output_type": "stream",
     "text": [
      "(G4E\u0001http://games4escape.com/\u0001g4egamesapp@gmail.com\u000117179951671,1)\n",
      "(eCart,1)\n",
      "(AB\u0001http://www.newsec.se\u0001sodergren.d@gmail.com\u00018590192481,1)\n",
      "(Radio\u0001~\u0001stmatthewapp@vimg.org\u00018590080357,1)\n",
      "(CISPE,1)\n",
      "(Gamesofa,4)\n",
      "(-TSAS,2)\n",
      "(Nagpur\u0001http://igreenvalley.com/\u0001info@igreenvalley.com\u00018590000379,1)\n",
      "(Union\u0001http://www.westconsincu.org\u0001onlineservices@westconsincu.org\u000125769865679,1)\n",
      "(LLC\u0001https://marvellousllc.appspot.com\u0001marvellous.android@gmail.com\u0001278414,1)\n",
      "(Galaxy\u0001~\u0001gamesgalaxy344@gmail.com\u000125770099512,1)\n",
      "(ISWD\u0001https://social.marinenotes.com/profile\u0001iswd2020@gmail.com\u000117180133114,1)\n",
      "(Blakey\u0001https://www.wolfchat.app/support\u0001thomas@blakey.co.uk\u000117180135559,1)\n",
      "(miah\u0001~\u0001mcappslabbd@gmail.com\u000117179993941,1)\n",
      "(SlaMart\u0001http://slamart.info\u0001slamartapps@gmail.com\u000125769842745,1)\n",
      "(Gupta\u0001https://kuntal.me\u0001kuntal1230@gmail.com\u000117350,1)\n",
      "(Solutions\u0001https://athleticsolutions.net/CollegiateSportQualifier/\u0001mlucas@athleticsolutions.net\u0001165810,1)\n",
      "(LLC\u0001https://excellentflorists.com/\u0001vanessa@excellentfarms.com\u000117180115044,1)\n",
      "(Apps\u0001http://www.krugerexplorer.com\u0001team@krugerexplorer.com\u00018590054173,1)\n",
      "(CO.,LTD\u0001~\u0001sunfengping@gmail.com\u00018590051591,1)\n",
      "(bilkore\u0001http://pilembaru.xyz\u0001bilkoreraktpo@gmail.com\u000125769806579,1)\n",
      "(Shilpworld,1)\n",
      "(inc\u0001https://whatsdone.app\u0001contact@whatsdone.app\u0001184293,1)\n",
      "(iDivineCreation,1)\n",
      "(Software\u0001https://tromf.ro\u0001contact@tromf.ro\u000125769834702,1)\n",
      "(S.A.\u0001http://www.roox.pt\u0001comercial@roox.pt\u000125770004106,1)\n",
      "(Technologies\u0001https://www.bluetranstechnologies.com/\u0001monodeep.m@bluetranstech.com\u000125769809052,1)\n",
      "(Dunn\u0001https://www.workingclasskarma.org\u0001Lori@WorkingClassKarma.org\u000117179894676,1)\n",
      "(Joyeeta,1)\n",
      "(Limited\u0001http://shanrohiinnovations.com/\u0001info@doordrishti.co\u00018590226816,1)\n",
      "(Saitama\u0001~\u0001omayma.fatima.9@gmail.com\u000117179978771,1)\n",
      "(Bayankin\u0001~\u0001artembayankin@gmail.com\u000125770036136,1)\n",
      "(Ourghana.com\u0001http://ourghana.info\u0001elliott@ourghana.info\u000117180031406,1)\n",
      "(DimOkGamer\u0001https://github.com/DmitriySalnikov/GodotRemote\u0001dimokgamer@gmail.com\u000125770040860,1)\n",
      "(Ringtones\u0001~\u0001moudenminiapps33@gmail.com\u0001266158,1)\n",
      "(LLC\u0001http://joyrideus.com/contact/\u0001bryan@joyrideus.com\u000125769845166,1)\n",
      "(Leader\u0001http://www.sweepsquad.org\u0001ron@sweepsquad.org\u000125770054237,1)\n",
      "(Ymna.Dev\u0001http://www.ymna.net\u0001ymnanet@gmail.com\u000117180058291,1)\n",
      "(Zeroinc,2)\n",
      "(Inc\u0001~\u0001deccanappz@gmail.com\u000117180074158,1)\n",
      "(Kekanto\u0001https://deliverydireto.com.br/go2drink\u0001contato@deliverydireto.com.br\u000125770030532,1)\n",
      "(Gebco,1)\n",
      "(Tools\u0001~\u0001artistappsstudio@gmail.com\u000125769941315,1)\n",
      "(LLC\u0001http://www.deciphersoft.com\u0001pavan@deciphersoft.com\u000117179931546,1)\n",
      "(EcoLogisticsSolutionsPvtLtd\u0001http://www.ecologisticssolutions.com/\u0001m.jaiganesh2013@gmail.com\u000125769907972,1)\n",
      "(Access\u0001http://www.flexipass.tech\u0001flexipass@flexipass.tech\u000116476,1)\n",
      "(e.V.\u0001http://www.csd-stuttgart.de\u0001orga@csd-stuttgart.de\u0001194097,1)\n",
      "(Network\u0001https://calidadauditivafm.com/\u0001valsant.net@gmail.com\u00018590020498,1)\n",
      "(Software1\u0001https://testseries.edugorilla.com/tests/423/class-ix-west-bengal-board\u0001developer@edugorilla.com\u000117179910527,1)\n",
      "(WonderCore\u0001https://wondercore.com\u0001support@wondercore.com\u0001220571,1)\n"
     ]
    },
    {
     "data": {
      "text/plain": [
       "wordCounts = MapPartitionsRDD[25] at objectFile at <console>:44\n"
      ]
     },
     "metadata": {},
     "output_type": "display_data"
    },
    {
     "data": {
      "text/plain": [
       "MapPartitionsRDD[25] at objectFile at <console>:44"
      ]
     },
     "execution_count": 25,
     "metadata": {},
     "output_type": "execute_result"
    }
   ],
   "source": [
    "// Wczytanie wyników z pliku object\n",
    "val wordCounts = sc.objectFile[(String, Long)](rddResultDir)\n",
    "\n",
    "// Wyświetlenie 50 pierwszych elementów\n",
    "wordCounts.take(50).foreach(println)"
   ]
  },
  {
   "cell_type": "code",
   "execution_count": 26,
   "id": "1021141d-a86c-43fe-9d9e-7a90911fe951",
   "metadata": {},
   "outputs": [
    {
     "name": "stdout",
     "output_type": "stream",
     "text": [
      "{\"resultSerializationTime\":0,\n",
      "\"shuffleWriteTime\":0,\n",
      "\"shuffleRemoteBytesReadToDisk\":0,\n",
      "\"shuffleRemoteBytesRead\":0,\n",
      "\"outputBytes\":0,\n",
      "\"peakExecutionMemory\":0,\n",
      "\"outputRecords\":0,\n",
      "\"diskBytesSpilled\":0,\n",
      "\"shuffleLocalBlocksFetched\":0,\n",
      "\"numCompleteTasks\":0,\n",
      "\"shuffleWriteBytes\":0,\n",
      "\"shuffleReadBytes\":0,\n",
      "\"executorDeserializeTime\":0,\n",
      "\"executorDeserializeCpuTime\":0,\n",
      "\"numCompletedIndices\":0,\n",
      "\"numActiveTasks\":0,\n",
      "\"numTasks\":0,\n",
      "\"inputBytes\":0,\n",
      "\"memoryBytesSpilled\":0,\n",
      "\"inputRecords\":0,\n",
      "\"jvmGcTime\":0,\n",
      "\"executorCpuTime\":0,\n",
      "\"numFailedTasks\":0,\n",
      "\"shuffleFetchWaitTime\":0,\n",
      "\"shuffleRemoteBlocksFetched\":0,\n",
      "\"executorRunTime\":0,\n",
      "\"shuffleLocalBytesRead\":0,\n",
      "\"numKilledTasks\":0,\n",
      "\"shuffleWriteRecords\":0,\n",
      "\"resultSize\":0,\n",
      "\"shuffleReadRecords\":0}\n"
     ]
    }
   ],
   "source": [
    "{ val jsonResult = compact(render(Extraction.decompose(subtractMetrics(afterRddMetrics, beforeRddMetrics))))\n",
    "  val formattedResult = jsonResult.replaceAll(\",\", \",\\n\")\n",
    "  println(formattedResult)\n",
    "}"
   ]
  },
  {
   "cell_type": "markdown",
   "id": "efc730f1-4b5e-4a68-8a86-11768918fcf4",
   "metadata": {},
   "source": [
    "## Część 2 - Spark SQL (DataFrame)"
   ]
  },
  {
   "cell_type": "code",
   "execution_count": 27,
   "id": "c7f7b63f-086b-41f0-9303-80d612582a5d",
   "metadata": {},
   "outputs": [
    {
     "name": "stdout",
     "output_type": "stream",
     "text": [
      "+-------------------------+-----+\n",
      "|                     word|count|\n",
      "+-------------------------+-----+\n",
      "|                      The| 9372|\n",
      "|                   Bidhee|    7|\n",
      "|                Solutions| 6041|\n",
      "|                   ArtAce|    2|\n",
      "|                  PuyTech|    1|\n",
      "|                   McLeod|  208|\n",
      "|                      RTV|   13|\n",
      "|     Software\u0001http://p...|    1|\n",
      "|紫荊雜誌社\u0001https://bau...|    1|\n",
      "|                  Bacilio|    2|\n",
      "|     Developer\u0001https:/...|    1|\n",
      "|     Software\u0001http://w...|    1|\n",
      "|                  Backend|   13|\n",
      "|하이퍼펌프\u0001~\u0001hyper.cho...|    1|\n",
      "|                    METRO|   21|\n",
      "|     ADBAND\u0001http://www...|    1|\n",
      "|                      Tcf|    1|\n",
      "|                      Pug|   12|\n",
      "|              Techologies|    4|\n",
      "|     Tourism\u0001https://t...|    1|\n",
      "|     Kinsale\u0001~\u0001gourmet...|    1|\n",
      "|     English\u0001https://w...|    1|\n",
      "|                    Darul|   10|\n",
      "|                       📱|    3|\n",
      "|                  Panipat|    2|\n",
      "|     Konyukhov\u0001http://...|    1|\n",
      "|                     Bold|   38|\n",
      "|     Developer\u0001http://...|    1|\n",
      "|     Advertising\u0001http:...|    1|\n",
      "|                 CÁNTABRO|    2|\n",
      "|     Consultores\u0001http:...|    1|\n",
      "|                     Amit|  106|\n",
      "|     CONTACTS\u0001http://w...|    1|\n",
      "|                    Jimmy|   78|\n",
      "|     applications\u0001~\u0001ph...|    1|\n",
      "|     Rechts\u0001https://ww...|    1|\n",
      "|     KetchapPro\u0001~\u0001ketc...|    1|\n",
      "|                     GIDA|    9|\n",
      "|     dev\u0001~\u0001radsdev@mai...|    1|\n",
      "|     Dipre\u0001~\u0001diomaris0...|    1|\n",
      "|                   Games:|   41|\n",
      "|                Beautiful|   62|\n",
      "|                      Jio|   22|\n",
      "|                   Phenix|   13|\n",
      "|     Apps\u0001https://seqa...|    1|\n",
      "|                    Qulam|    2|\n",
      "|     Games\u0001http://tinm...|    1|\n",
      "|     RedPACT\u0001~\u0001nancyak...|    1|\n",
      "|                     Coin|   79|\n",
      "|                 Smartify|    5|\n",
      "+-------------------------+-----+\n",
      "only showing top 50 rows\n",
      "\n"
     ]
    },
    {
     "data": {
      "text/plain": [
       "df = [word: string, count: bigint]\n"
      ]
     },
     "metadata": {},
     "output_type": "display_data"
    },
    {
     "data": {
      "text/plain": [
       "[word: string, count: bigint]"
      ]
     },
     "execution_count": 27,
     "metadata": {},
     "output_type": "execute_result"
    }
   ],
   "source": [
    "val df = spark.table(dfResultTable)\n",
    "\n",
    "// Wyświetlenie 50 pierwszych rekordów\n",
    "df.show(50)"
   ]
  },
  {
   "cell_type": "code",
   "execution_count": 28,
   "id": "167ee25b-fc94-4289-9ae2-d9c241099127",
   "metadata": {},
   "outputs": [
    {
     "name": "stdout",
     "output_type": "stream",
     "text": [
      "{\"resultSerializationTime\":0,\n",
      "\"shuffleWriteTime\":0,\n",
      "\"shuffleRemoteBytesReadToDisk\":0,\n",
      "\"shuffleRemoteBytesRead\":0,\n",
      "\"outputBytes\":0,\n",
      "\"peakExecutionMemory\":0,\n",
      "\"outputRecords\":0,\n",
      "\"diskBytesSpilled\":0,\n",
      "\"shuffleLocalBlocksFetched\":0,\n",
      "\"numCompleteTasks\":0,\n",
      "\"shuffleWriteBytes\":0,\n",
      "\"shuffleReadBytes\":0,\n",
      "\"executorDeserializeTime\":0,\n",
      "\"executorDeserializeCpuTime\":0,\n",
      "\"numCompletedIndices\":0,\n",
      "\"numActiveTasks\":0,\n",
      "\"numTasks\":0,\n",
      "\"inputBytes\":0,\n",
      "\"memoryBytesSpilled\":0,\n",
      "\"inputRecords\":0,\n",
      "\"jvmGcTime\":0,\n",
      "\"executorCpuTime\":0,\n",
      "\"numFailedTasks\":0,\n",
      "\"shuffleFetchWaitTime\":0,\n",
      "\"shuffleRemoteBlocksFetched\":0,\n",
      "\"executorRunTime\":0,\n",
      "\"shuffleLocalBytesRead\":0,\n",
      "\"numKilledTasks\":0,\n",
      "\"shuffleWriteRecords\":0,\n",
      "\"resultSize\":0,\n",
      "\"shuffleReadRecords\":0}\n"
     ]
    }
   ],
   "source": [
    "{ val jsonResult = compact(render(Extraction.decompose(subtractMetrics(afterDfMetrics, beforeDfMetrics))))\n",
    "  val formattedResult = jsonResult.replaceAll(\",\", \",\\n\")\n",
    "  println(formattedResult)\n",
    "}"
   ]
  },
  {
   "cell_type": "markdown",
   "id": "8ceadeb9-6b69-48e0-8773-a21299644590",
   "metadata": {},
   "source": [
    "## Część 3 - Spark SQL (Dataset)"
   ]
  },
  {
   "cell_type": "code",
   "execution_count": 29,
   "id": "fb864f7c-a40a-49f9-82da-1b05dddecf83",
   "metadata": {},
   "outputs": [
    {
     "name": "stdout",
     "output_type": "stream",
     "text": [
      "[ {\n",
      "  \"key\" : \"Worcester\",\n",
      "  \"value\" : 9\n",
      "}, {\n",
      "  \"key\" : \"Decigu\",\n",
      "  \"value\" : 3\n",
      "}, {\n",
      "  \"key\" : \"Expert\",\n",
      "  \"value\" : 161\n",
      "}, {\n",
      "  \"key\" : \"Bangla\",\n",
      "  \"value\" : 76\n",
      "}, {\n",
      "  \"key\" : \"Morel\\u0001http://Ivanmorel.barber.cutz.com\\u0001sr.morel@gmail.com\\u00018589935456\",\n",
      "  \"value\" : 1\n",
      "}, {\n",
      "  \"key\" : \"CV\\u0001~\\u0001mabecorpti@gmail.com\\u00018589935486\",\n",
      "  \"value\" : 1\n",
      "}, {\n",
      "  \"key\" : \"IT\\u0001https://sisrute.kemkes.go.id\\u0001poentoro@yahoo.com\\u00018589935850\",\n",
      "  \"value\" : 1\n",
      "}, {\n",
      "  \"key\" : \"Tutting,\",\n",
      "  \"value\" : 1\n",
      "}, {\n",
      "  \"key\" : \"PT\\u0001~\\u0001developer.compro@gmail.com\\u00018589935985\",\n",
      "  \"value\" : 1\n",
      "}, {\n",
      "  \"key\" : \"Boba\\u0001~\\u0001abeeryas20@gmail.com\\u00018589936140\",\n",
      "  \"value\" : 1\n",
      "}, {\n",
      "  \"key\" : \"AKD\",\n",
      "  \"value\" : 7\n",
      "}, {\n",
      "  \"key\" : \"GROUP\\u0001https://varniapp.com\\u0001varniitsolutions@gmail.com\\u00018589936309\",\n",
      "  \"value\" : 1\n",
      "}, {\n",
      "  \"key\" : \"Inc.\\u0001http://www.plateau.tv\\u0001support@plateautel.com\\u00018589936421\",\n",
      "  \"value\" : 1\n",
      "}, {\n",
      "  \"key\" : \"CYBntity\",\n",
      "  \"value\" : 1\n",
      "}, {\n",
      "  \"key\" : \"CARS\",\n",
      "  \"value\" : 13\n",
      "}, {\n",
      "  \"key\" : \"MM\\u0001~\\u0001android@aerospool.sk\\u00018589936796\",\n",
      "  \"value\" : 1\n",
      "}, {\n",
      "  \"key\" : \"ShirdiSaiChants\",\n",
      "  \"value\" : 1\n",
      "}, {\n",
      "  \"key\" : \"online\",\n",
      "  \"value\" : 317\n",
      "}, {\n",
      "  \"key\" : \"Tydecon\",\n",
      "  \"value\" : 4\n",
      "}, {\n",
      "  \"key\" : \"Apps\\u0001~\\u0001banglaappreview2018@gmail.com\\u00018589936990\",\n",
      "  \"value\" : 1\n",
      "}, {\n",
      "  \"key\" : \"Forbund\\u0001http://www.rideforbund.dk\\u0001info@dressurapp.dk\\u00018589937089\",\n",
      "  \"value\" : 1\n",
      "}, {\n",
      "  \"key\" : \"Guide\\u0001http://www.londonchatbotagency.com/\\u0001idees@commentvousdire.com\\u00018589937197\",\n",
      "  \"value\" : 1\n",
      "}, {\n",
      "  \"key\" : \"Sandi\",\n",
      "  \"value\" : 7\n",
      "}, {\n",
      "  \"key\" : \"Amazing\",\n",
      "  \"value\" : 141\n",
      "}, {\n",
      "  \"key\" : \"PiKoYa\\u0001https://www.pikoya.com\\u0001support@pikoya.com\\u00018589937329\",\n",
      "  \"value\" : 1\n",
      "}, {\n",
      "  \"key\" : \"Kin\",\n",
      "  \"value\" : 14\n",
      "}, {\n",
      "  \"key\" : \"Neurone.IoT\",\n",
      "  \"value\" : 1\n",
      "}, {\n",
      "  \"key\" : \"Congress\\u0001~\\u0001ncpnepal77@gmail.com\\u00018589937647\",\n",
      "  \"value\" : 1\n",
      "}, {\n",
      "  \"key\" : \"Apps\\u0001http://agplove53.blogspot.com\\u0001agplove53@gmail.com\\u00018589937773\",\n",
      "  \"value\" : 1\n",
      "}, {\n",
      "  \"key\" : \"Vinsofts\",\n",
      "  \"value\" : 7\n",
      "}, {\n",
      "  \"key\" : \"Goldfish\",\n",
      "  \"value\" : 19\n",
      "}, {\n",
      "  \"key\" : \"Мэдээллийн\",\n",
      "  \"value\" : 2\n",
      "}, {\n",
      "  \"key\" : \"Games\\u0001~\\u0001abdulraheemuddin7668@gmail.com\\u00018589938182\",\n",
      "  \"value\" : 1\n",
      "}, {\n",
      "  \"key\" : \"Crawling\\u0001https://www.facebook.com/CrawlingCordoba/\\u0001victorgancedo45@gmail.com\\u00018589938812\",\n",
      "  \"value\" : 1\n",
      "}, {\n",
      "  \"key\" : \"Productions\\u0001http://artishock.com\\u0001projects@artishock.com\\u00018589938904\",\n",
      "  \"value\" : 1\n",
      "}, {\n",
      "  \"key\" : \"Tradie\",\n",
      "  \"value\" : 4\n",
      "}, {\n",
      "  \"key\" : \"Limited\\u0001http://infovalleysoftwaresolutions.com/\",\n",
      "  \"value\" : 1\n",
      "}, {\n",
      "  \"key\" : \"Chevere\",\n",
      "  \"value\" : 2\n",
      "}, {\n",
      "  \"key\" : \"By\",\n",
      "  \"value\" : 641\n",
      "}, {\n",
      "  \"key\" : \"Union\\u0001https://www.redwingcu.com/\\u0001cardservices@redwingcu.com\\u00018589939215\",\n",
      "  \"value\" : 1\n",
      "}, {\n",
      "  \"key\" : \"MM\",\n",
      "  \"value\" : 90\n",
      "}, {\n",
      "  \"key\" : \"Italiana\",\n",
      "  \"value\" : 34\n",
      "}, {\n",
      "  \"key\" : \"Thessaloniki\",\n",
      "  \"value\" : 2\n",
      "}, {\n",
      "  \"key\" : \"골드캔디\\u0001~\\u0001rongda78@gmail.com\\u00018589939759\",\n",
      "  \"value\" : 1\n",
      "}, {\n",
      "  \"key\" : \"Studio\\u0001~\\u0001gamestore6464@gmail.com\\u00018589939772\",\n",
      "  \"value\" : 1\n",
      "}, {\n",
      "  \"key\" : \"Rødovre\",\n",
      "  \"value\" : 1\n",
      "}, {\n",
      "  \"key\" : \"Barnstorming\",\n",
      "  \"value\" : 1\n",
      "}, {\n",
      "  \"key\" : \"Alnasser\\u0001https://azzurri-a.com/\\u0001azzurri.jewelery@gmail.com\\u00018589939922\",\n",
      "  \"value\" : 1\n",
      "}, {\n",
      "  \"key\" : \"Bitcliq\",\n",
      "  \"value\" : 5\n",
      "}, {\n",
      "  \"key\" : \"Half-Man\",\n",
      "  \"value\" : 2\n",
      "} ]\n"
     ]
    },
    {
     "data": {
      "text/plain": [
       "jsonContent = JArray(List(JObject(List((key,JString(Worcester)), (value,JInt(9)))), JObject(List((key,JString(Decigu)), (value,JInt(3)))), JObject(List((key,JString(Expert)), (value,JInt(161)))), JObject(List((key,JString(Bangla)), (value,JInt(76)))), JObject(List((key,JString(Morel?http://Ivanmorel.barber.cutz.com?sr.morel@gmail.com?8589935456)), (value,JInt(1)))), JObject(List((key,JString(CV?~?mabecorpti@gmail.com?8589935486)), (value,JInt(1)))), JObject(List((key,JString(IT?https://sisrute.kemkes.go.id?poentoro@yahoo.com?8589935850)), (value,JInt(1)))), JObject(List((key,JString(Tutting,)), (value,JInt(1)))), JObject(List((key,JString(PT?~?developer.compro@gmail.com?8589935985)), (v...\n"
      ]
     },
     "metadata": {},
     "output_type": "display_data"
    },
    {
     "data": {
      "text/plain": [
       "JArray(List(JObject(List((key,JString(Worcester)), (value,JInt(9)))), JObject(List((key,JString(Decigu)), (value,JInt(3)))), JObject(List((key,JString(Expert)), (value,JInt(161)))), JObject(List((key,JString(Bangla)), (value,JInt(76)))), JObject(List((key,JString(Morel?http://Ivanmorel.barber.cutz.com?sr.morel@gmail.com?8589935456)), (value,JInt(1)))), JObject(List((key,JString(CV?~?mabecorpti@gmail.com?8589935486)), (value,JInt(1)))), JObject(List((key,JString(IT?https://sisrute.kemkes.go.id?poentoro@yahoo.com?8589935850)), (value,JInt(1)))), JObject(List((key,JString(Tutting,)), (value,JInt(1)))), JObject(List((key,JString(PT?~?developer.compro@gmail.com?8589935985)), (v..."
      ]
     },
     "execution_count": 29,
     "metadata": {},
     "output_type": "execute_result"
    }
   ],
   "source": [
    "import scala.io.Source\n",
    "import org.json4s._\n",
    "import org.json4s.jackson.JsonMethods._\n",
    "\n",
    "// Wczytanie zawartości pliku JSON\n",
    "val jsonContent: JValue = parse(scala.io.Source.fromFile(dsResultFile).mkString)\n",
    "\n",
    "// Ograniczenie do pierwszych 50 elementów tablicy\n",
    "val limitedContent: JValue = jsonContent match {\n",
    "  case JArray(elements) => JArray(elements.take(50))\n",
    "  case other => other\n",
    "}\n",
    "\n",
    "// Wyświetlenie ograniczonej zawartości z nowymi liniami\n",
    "println(pretty(render(limitedContent)))"
   ]
  },
  {
   "cell_type": "code",
   "execution_count": 30,
   "id": "9001d192-c91d-4a56-8b9a-ff3276aa444b",
   "metadata": {},
   "outputs": [
    {
     "name": "stdout",
     "output_type": "stream",
     "text": [
      "{\"resultSerializationTime\":0,\n",
      "\"shuffleWriteTime\":0,\n",
      "\"shuffleRemoteBytesReadToDisk\":0,\n",
      "\"shuffleRemoteBytesRead\":0,\n",
      "\"outputBytes\":0,\n",
      "\"peakExecutionMemory\":0,\n",
      "\"outputRecords\":0,\n",
      "\"diskBytesSpilled\":0,\n",
      "\"shuffleLocalBlocksFetched\":0,\n",
      "\"numCompleteTasks\":0,\n",
      "\"shuffleWriteBytes\":0,\n",
      "\"shuffleReadBytes\":0,\n",
      "\"executorDeserializeTime\":0,\n",
      "\"executorDeserializeCpuTime\":0,\n",
      "\"numCompletedIndices\":0,\n",
      "\"numActiveTasks\":0,\n",
      "\"numTasks\":0,\n",
      "\"inputBytes\":0,\n",
      "\"memoryBytesSpilled\":0,\n",
      "\"inputRecords\":0,\n",
      "\"jvmGcTime\":0,\n",
      "\"executorCpuTime\":0,\n",
      "\"numFailedTasks\":0,\n",
      "\"shuffleFetchWaitTime\":0,\n",
      "\"shuffleRemoteBlocksFetched\":0,\n",
      "\"executorRunTime\":0,\n",
      "\"shuffleLocalBytesRead\":0,\n",
      "\"numKilledTasks\":0,\n",
      "\"shuffleWriteRecords\":0,\n",
      "\"resultSize\":0,\n",
      "\"shuffleReadRecords\":0}\n"
     ]
    }
   ],
   "source": [
    "{ val jsonResult = compact(render(Extraction.decompose(subtractMetrics(afterDsMetrics, beforeDsMetrics))))\n",
    "  val formattedResult = jsonResult.replaceAll(\",\", \",\\n\")\n",
    "  println(formattedResult)\n",
    "}"
   ]
  },
  {
   "cell_type": "code",
   "execution_count": null,
   "id": "ccc1b6da-f903-40a7-89a0-1e2dfa637bde",
   "metadata": {},
   "outputs": [],
   "source": []
  }
 ],
 "metadata": {
  "kernelspec": {
   "display_name": "Apache Toree - Scala",
   "language": "scala",
   "name": "apache_toree_scala"
  },
  "language_info": {
   "codemirror_mode": "text/x-scala",
   "file_extension": ".scala",
   "mimetype": "text/x-scala",
   "name": "scala",
   "pygments_lexer": "scala",
   "version": "2.12.15"
  }
 },
 "nbformat": 4,
 "nbformat_minor": 5
}
